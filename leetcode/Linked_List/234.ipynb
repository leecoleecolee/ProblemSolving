{
 "cells": [
  {
   "cell_type": "code",
   "execution_count": 1,
   "metadata": {},
   "outputs": [],
   "source": [
    "from typing import *"
   ]
  },
  {
   "cell_type": "code",
   "execution_count": 4,
   "metadata": {},
   "outputs": [],
   "source": [
    "# Definition for singly-linked list.\n",
    "class ListNode:\n",
    "    def __init__(self, val=0, next=None):\n",
    "        self.val = val\n",
    "        self.next = next    "
   ]
  },
  {
   "cell_type": "code",
   "execution_count": 21,
   "metadata": {},
   "outputs": [],
   "source": [
    "from collections import deque\n",
    "\n",
    "# dir(collections.deque())\n",
    "\n",
    "def isPalindrome(head: ListNode) -> bool:\n",
    "    node: Deque = deque()\n",
    "    if not head:\n",
    "        return True\n",
    "    while head is not None:\n",
    "        node.append(head.val)\n",
    "        head = head.next\n",
    "    for i in range(len(node) // 2):\n",
    "        if (node.popleft() != node.pop()):\n",
    "            return False\n",
    "    return True"
   ]
  },
  {
   "cell_type": "code",
   "execution_count": null,
   "metadata": {},
   "outputs": [],
   "source": []
  },
  {
   "cell_type": "code",
   "execution_count": 41,
   "metadata": {},
   "outputs": [],
   "source": [
    "def better(head: ListNode) -> bool:\n",
    "    rev: ListNode = None\n",
    "    slow = fast = head\n",
    "    \n",
    "    while fast and fast.next:\n",
    "        fast = fast.next.next\n",
    "        # 다중할당 주의해서 보자.
    "        # 인자로 [1, 2, 3]이 들어올 때
    "        # rev.next에 None 이 들어온다. rev.next = rev 인데 rev가 업데이트가 되지 않은채 들어옴
    "        rev, rev.next, slow = slow, rev, slow.next\n",
    "        \n",
    "    if fast:\n",
    "        slow = slow.next\n",
    "                \n",
    "    while rev:\n",
    "        if rev.val != slow.val:\n",
    "            return False\n",
    "        rev, slow = rev.next, slow.next\n",
    "    return True"
   ]
  },
  {
   "cell_type": "code",
   "execution_count": 42,
   "metadata": {},
   "outputs": [],
   "source": [
    "test1 = ListNode(1)\n",
    "test2 = ListNode(2, test1)\n",
    "test3 = ListNode(3, test2)\n",
    "test4 = ListNode(4, test3)\n",
    "test5 = ListNode(3, test4)\n",
    "test6 = ListNode(2, test5)\n",
    "test7 = ListNode(1, test6)\n",
    "\n",
    "head=  test7\n"
   ]
  },
  {
   "cell_type": "code",
   "execution_count": 43,
   "metadata": {},
   "outputs": [
    {
     "data": {
      "text/plain": [
       "True"
      ]
     },
     "execution_count": 43,
     "metadata": {},
     "output_type": "execute_result"
    }
   ],
   "source": [
    "better(head)"
   ]
  },
  {
   "cell_type": "code",
   "execution_count": 25,
   "metadata": {},
   "outputs": [
    {
     "data": {
      "text/plain": [
       "True"
      ]
     },
     "execution_count": 25,
     "metadata": {},
     "output_type": "execute_result"
    }
   ],
   "source": [
    "isPalindrome(head)"
   ]
  },
  {
   "cell_type": "code",
   "execution_count": null,
   "metadata": {},
   "outputs": [],
   "source": []
  }
 ],
 "metadata": {
  "kernelspec": {
   "display_name": "Python 3",
   "language": "python",
   "name": "python3"
  },
  "language_info": {
   "codemirror_mode": {
    "name": "ipython",
    "version": 3
   },
   "file_extension": ".py",
   "mimetype": "text/x-python",
   "name": "python",
   "nbconvert_exporter": "python",
   "pygments_lexer": "ipython3",
   "version": "3.6.9"
  }
 },
 "nbformat": 4,
 "nbformat_minor": 4
}
